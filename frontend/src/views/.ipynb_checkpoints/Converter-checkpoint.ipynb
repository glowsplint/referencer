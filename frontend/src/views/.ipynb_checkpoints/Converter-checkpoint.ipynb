{
 "cells": [
  {
   "cell_type": "code",
   "execution_count": 2,
   "metadata": {},
   "outputs": [],
   "source": [
    "import pandas as pd\n",
    "import json"
   ]
  },
  {
   "cell_type": "code",
   "execution_count": 51,
   "metadata": {},
   "outputs": [],
   "source": [
    "df = pd.read_csv(\"../../../datasets/esv/other/esv_all.csv\", sep=\";\", encoding=\"utf-8\")"
   ]
  },
  {
   "cell_type": "code",
   "execution_count": 7,
   "metadata": {},
   "outputs": [
    {
     "data": {
      "text/html": [
       "<div>\n",
       "<style scoped>\n",
       "    .dataframe tbody tr th:only-of-type {\n",
       "        vertical-align: middle;\n",
       "    }\n",
       "\n",
       "    .dataframe tbody tr th {\n",
       "        vertical-align: top;\n",
       "    }\n",
       "\n",
       "    .dataframe thead th {\n",
       "        text-align: right;\n",
       "    }\n",
       "</style>\n",
       "<table border=\"1\" class=\"dataframe\">\n",
       "  <thead>\n",
       "    <tr style=\"text-align: right;\">\n",
       "      <th></th>\n",
       "      <th>Book</th>\n",
       "      <th>Chapter</th>\n",
       "      <th>Verse</th>\n",
       "      <th>Content</th>\n",
       "    </tr>\n",
       "  </thead>\n",
       "  <tbody>\n",
       "    <tr>\n",
       "      <th>0</th>\n",
       "      <td>Genesis</td>\n",
       "      <td>1</td>\n",
       "      <td>1</td>\n",
       "      <td>In the beginning, God created the heavens and ...</td>\n",
       "    </tr>\n",
       "    <tr>\n",
       "      <th>1</th>\n",
       "      <td>Genesis</td>\n",
       "      <td>1</td>\n",
       "      <td>2</td>\n",
       "      <td>The earth was without form and void, and darkn...</td>\n",
       "    </tr>\n",
       "    <tr>\n",
       "      <th>2</th>\n",
       "      <td>Genesis</td>\n",
       "      <td>1</td>\n",
       "      <td>3</td>\n",
       "      <td>And God said, “Let there be light,” and there ...</td>\n",
       "    </tr>\n",
       "    <tr>\n",
       "      <th>3</th>\n",
       "      <td>Genesis</td>\n",
       "      <td>1</td>\n",
       "      <td>4</td>\n",
       "      <td>And God saw that the light was good. And God s...</td>\n",
       "    </tr>\n",
       "    <tr>\n",
       "      <th>4</th>\n",
       "      <td>Genesis</td>\n",
       "      <td>1</td>\n",
       "      <td>5</td>\n",
       "      <td>God called the light Day, and the darkness he ...</td>\n",
       "    </tr>\n",
       "    <tr>\n",
       "      <th>...</th>\n",
       "      <td>...</td>\n",
       "      <td>...</td>\n",
       "      <td>...</td>\n",
       "      <td>...</td>\n",
       "    </tr>\n",
       "    <tr>\n",
       "      <th>31089</th>\n",
       "      <td>Revelation</td>\n",
       "      <td>22</td>\n",
       "      <td>17</td>\n",
       "      <td>The Spirit and the Bride say, “Come.” And let ...</td>\n",
       "    </tr>\n",
       "    <tr>\n",
       "      <th>31090</th>\n",
       "      <td>Revelation</td>\n",
       "      <td>22</td>\n",
       "      <td>18</td>\n",
       "      <td>I warn everyone who hears the words of the pro...</td>\n",
       "    </tr>\n",
       "    <tr>\n",
       "      <th>31091</th>\n",
       "      <td>Revelation</td>\n",
       "      <td>22</td>\n",
       "      <td>19</td>\n",
       "      <td>and if anyone takes away from the words of the...</td>\n",
       "    </tr>\n",
       "    <tr>\n",
       "      <th>31092</th>\n",
       "      <td>Revelation</td>\n",
       "      <td>22</td>\n",
       "      <td>20</td>\n",
       "      <td>He who testifies to these things says, “Surely...</td>\n",
       "    </tr>\n",
       "    <tr>\n",
       "      <th>31093</th>\n",
       "      <td>Revelation</td>\n",
       "      <td>22</td>\n",
       "      <td>21</td>\n",
       "      <td>The grace of the Lord Jesus be with all. Amen.</td>\n",
       "    </tr>\n",
       "  </tbody>\n",
       "</table>\n",
       "<p>31094 rows × 4 columns</p>\n",
       "</div>"
      ],
      "text/plain": [
       "             Book  Chapter  Verse  \\\n",
       "0         Genesis        1      1   \n",
       "1         Genesis        1      2   \n",
       "2         Genesis        1      3   \n",
       "3         Genesis        1      4   \n",
       "4         Genesis        1      5   \n",
       "...           ...      ...    ...   \n",
       "31089  Revelation       22     17   \n",
       "31090  Revelation       22     18   \n",
       "31091  Revelation       22     19   \n",
       "31092  Revelation       22     20   \n",
       "31093  Revelation       22     21   \n",
       "\n",
       "                                                 Content  \n",
       "0      In the beginning, God created the heavens and ...  \n",
       "1      The earth was without form and void, and darkn...  \n",
       "2      And God said, “Let there be light,” and there ...  \n",
       "3      And God saw that the light was good. And God s...  \n",
       "4      God called the light Day, and the darkness he ...  \n",
       "...                                                  ...  \n",
       "31089  The Spirit and the Bride say, “Come.” And let ...  \n",
       "31090  I warn everyone who hears the words of the pro...  \n",
       "31091  and if anyone takes away from the words of the...  \n",
       "31092  He who testifies to these things says, “Surely...  \n",
       "31093     The grace of the Lord Jesus be with all. Amen.  \n",
       "\n",
       "[31094 rows x 4 columns]"
      ]
     },
     "execution_count": 7,
     "metadata": {},
     "output_type": "execute_result"
    }
   ],
   "source": [
    "df"
   ]
  },
  {
   "cell_type": "markdown",
   "metadata": {},
   "source": [
    "### Creating dictionary of `{chapter: last_verse}`"
   ]
  },
  {
   "cell_type": "code",
   "execution_count": 30,
   "metadata": {},
   "outputs": [],
   "source": [
    "last_df = df.groupby('Book').max()\n",
    "last_df['Last'] = last_df.index + ' ' + last_df.Chapter.astype(str) + ':' + last_df.Verse.astype(str)\n",
    "last_df.drop(['Chapter', 'Verse'], axis=1, inplace=True)\n",
    "last_df.reset_index(inplace=True)"
   ]
  },
  {
   "cell_type": "code",
   "execution_count": 33,
   "metadata": {},
   "outputs": [],
   "source": [
    "last_dict = {v['Book']: v['Last'] for k,v in last_df.to_dict('index').items()}"
   ]
  },
  {
   "cell_type": "code",
   "execution_count": 36,
   "metadata": {},
   "outputs": [],
   "source": [
    "with open('last_verse.json', 'w') as f:\n",
    "    json.dump(last_dict, f)"
   ]
  },
  {
   "cell_type": "markdown",
   "metadata": {},
   "source": [
    "### Creating dictionary of `{verse: text}`"
   ]
  },
  {
   "cell_type": "code",
   "execution_count": 52,
   "metadata": {},
   "outputs": [],
   "source": [
    "df['Reference'] = df.Book + \" \" + df.Chapter.astype(str) + \":\" + df.Verse.astype(str)\n",
    "df.drop(['Book', 'Chapter', 'Verse'], axis=1, inplace=True)\n",
    "df = df[['Reference', 'Content']]"
   ]
  },
  {
   "cell_type": "code",
   "execution_count": 53,
   "metadata": {},
   "outputs": [
    {
     "data": {
      "text/html": [
       "<div>\n",
       "<style scoped>\n",
       "    .dataframe tbody tr th:only-of-type {\n",
       "        vertical-align: middle;\n",
       "    }\n",
       "\n",
       "    .dataframe tbody tr th {\n",
       "        vertical-align: top;\n",
       "    }\n",
       "\n",
       "    .dataframe thead th {\n",
       "        text-align: right;\n",
       "    }\n",
       "</style>\n",
       "<table border=\"1\" class=\"dataframe\">\n",
       "  <thead>\n",
       "    <tr style=\"text-align: right;\">\n",
       "      <th></th>\n",
       "      <th>Reference</th>\n",
       "      <th>Content</th>\n",
       "    </tr>\n",
       "  </thead>\n",
       "  <tbody>\n",
       "    <tr>\n",
       "      <th>0</th>\n",
       "      <td>Genesis 1:1</td>\n",
       "      <td>In the beginning, God created the heavens and ...</td>\n",
       "    </tr>\n",
       "    <tr>\n",
       "      <th>1</th>\n",
       "      <td>Genesis 1:2</td>\n",
       "      <td>The earth was without form and void, and darkn...</td>\n",
       "    </tr>\n",
       "    <tr>\n",
       "      <th>2</th>\n",
       "      <td>Genesis 1:3</td>\n",
       "      <td>And God said, “Let there be light,” and there ...</td>\n",
       "    </tr>\n",
       "    <tr>\n",
       "      <th>3</th>\n",
       "      <td>Genesis 1:4</td>\n",
       "      <td>And God saw that the light was good. And God s...</td>\n",
       "    </tr>\n",
       "    <tr>\n",
       "      <th>4</th>\n",
       "      <td>Genesis 1:5</td>\n",
       "      <td>God called the light Day, and the darkness he ...</td>\n",
       "    </tr>\n",
       "    <tr>\n",
       "      <th>...</th>\n",
       "      <td>...</td>\n",
       "      <td>...</td>\n",
       "    </tr>\n",
       "    <tr>\n",
       "      <th>31089</th>\n",
       "      <td>Revelation 22:17</td>\n",
       "      <td>The Spirit and the Bride say, “Come.” And let ...</td>\n",
       "    </tr>\n",
       "    <tr>\n",
       "      <th>31090</th>\n",
       "      <td>Revelation 22:18</td>\n",
       "      <td>I warn everyone who hears the words of the pro...</td>\n",
       "    </tr>\n",
       "    <tr>\n",
       "      <th>31091</th>\n",
       "      <td>Revelation 22:19</td>\n",
       "      <td>and if anyone takes away from the words of the...</td>\n",
       "    </tr>\n",
       "    <tr>\n",
       "      <th>31092</th>\n",
       "      <td>Revelation 22:20</td>\n",
       "      <td>He who testifies to these things says, “Surely...</td>\n",
       "    </tr>\n",
       "    <tr>\n",
       "      <th>31093</th>\n",
       "      <td>Revelation 22:21</td>\n",
       "      <td>The grace of the Lord Jesus be with all. Amen.</td>\n",
       "    </tr>\n",
       "  </tbody>\n",
       "</table>\n",
       "<p>31094 rows × 2 columns</p>\n",
       "</div>"
      ],
      "text/plain": [
       "              Reference                                            Content\n",
       "0           Genesis 1:1  In the beginning, God created the heavens and ...\n",
       "1           Genesis 1:2  The earth was without form and void, and darkn...\n",
       "2           Genesis 1:3  And God said, “Let there be light,” and there ...\n",
       "3           Genesis 1:4  And God saw that the light was good. And God s...\n",
       "4           Genesis 1:5  God called the light Day, and the darkness he ...\n",
       "...                 ...                                                ...\n",
       "31089  Revelation 22:17  The Spirit and the Bride say, “Come.” And let ...\n",
       "31090  Revelation 22:18  I warn everyone who hears the words of the pro...\n",
       "31091  Revelation 22:19  and if anyone takes away from the words of the...\n",
       "31092  Revelation 22:20  He who testifies to these things says, “Surely...\n",
       "31093  Revelation 22:21     The grace of the Lord Jesus be with all. Amen.\n",
       "\n",
       "[31094 rows x 2 columns]"
      ]
     },
     "execution_count": 53,
     "metadata": {},
     "output_type": "execute_result"
    }
   ],
   "source": [
    "df"
   ]
  },
  {
   "cell_type": "code",
   "execution_count": 54,
   "metadata": {},
   "outputs": [],
   "source": [
    "full_dict = {v['Reference']: v['Content'] for k,v in df.to_dict('index').items()}"
   ]
  },
  {
   "cell_type": "code",
   "execution_count": 14,
   "metadata": {},
   "outputs": [],
   "source": [
    "with open('bible.json', 'w') as f:\n",
    "    json.dump(full_dict, f)"
   ]
  },
  {
   "cell_type": "markdown",
   "metadata": {},
   "source": [
    "### Creating the array/list of `[text..]`\n",
    "This array is missing items (verse 2s)."
   ]
  },
  {
   "cell_type": "code",
   "execution_count": 39,
   "metadata": {},
   "outputs": [],
   "source": [
    "textArray = df.Content.tolist()"
   ]
  },
  {
   "cell_type": "code",
   "execution_count": 41,
   "metadata": {},
   "outputs": [],
   "source": [
    "with open('textArray.json', 'w') as f:\n",
    "    json.dump(textArray, f)"
   ]
  },
  {
   "cell_type": "markdown",
   "metadata": {},
   "source": [
    "### Creating the dictionary of `{verse: array_index}`\n",
    "This dictionary is inaccurate because of the said missing items."
   ]
  },
  {
   "cell_type": "code",
   "execution_count": 55,
   "metadata": {},
   "outputs": [
    {
     "data": {
      "text/html": [
       "<div>\n",
       "<style scoped>\n",
       "    .dataframe tbody tr th:only-of-type {\n",
       "        vertical-align: middle;\n",
       "    }\n",
       "\n",
       "    .dataframe tbody tr th {\n",
       "        vertical-align: top;\n",
       "    }\n",
       "\n",
       "    .dataframe thead th {\n",
       "        text-align: right;\n",
       "    }\n",
       "</style>\n",
       "<table border=\"1\" class=\"dataframe\">\n",
       "  <thead>\n",
       "    <tr style=\"text-align: right;\">\n",
       "      <th></th>\n",
       "      <th>Reference</th>\n",
       "      <th>Content</th>\n",
       "    </tr>\n",
       "  </thead>\n",
       "  <tbody>\n",
       "    <tr>\n",
       "      <th>0</th>\n",
       "      <td>Genesis 1:1</td>\n",
       "      <td>In the beginning, God created the heavens and ...</td>\n",
       "    </tr>\n",
       "    <tr>\n",
       "      <th>1</th>\n",
       "      <td>Genesis 1:2</td>\n",
       "      <td>The earth was without form and void, and darkn...</td>\n",
       "    </tr>\n",
       "    <tr>\n",
       "      <th>2</th>\n",
       "      <td>Genesis 1:3</td>\n",
       "      <td>And God said, “Let there be light,” and there ...</td>\n",
       "    </tr>\n",
       "    <tr>\n",
       "      <th>3</th>\n",
       "      <td>Genesis 1:4</td>\n",
       "      <td>And God saw that the light was good. And God s...</td>\n",
       "    </tr>\n",
       "    <tr>\n",
       "      <th>4</th>\n",
       "      <td>Genesis 1:5</td>\n",
       "      <td>God called the light Day, and the darkness he ...</td>\n",
       "    </tr>\n",
       "    <tr>\n",
       "      <th>...</th>\n",
       "      <td>...</td>\n",
       "      <td>...</td>\n",
       "    </tr>\n",
       "    <tr>\n",
       "      <th>31089</th>\n",
       "      <td>Revelation 22:17</td>\n",
       "      <td>The Spirit and the Bride say, “Come.” And let ...</td>\n",
       "    </tr>\n",
       "    <tr>\n",
       "      <th>31090</th>\n",
       "      <td>Revelation 22:18</td>\n",
       "      <td>I warn everyone who hears the words of the pro...</td>\n",
       "    </tr>\n",
       "    <tr>\n",
       "      <th>31091</th>\n",
       "      <td>Revelation 22:19</td>\n",
       "      <td>and if anyone takes away from the words of the...</td>\n",
       "    </tr>\n",
       "    <tr>\n",
       "      <th>31092</th>\n",
       "      <td>Revelation 22:20</td>\n",
       "      <td>He who testifies to these things says, “Surely...</td>\n",
       "    </tr>\n",
       "    <tr>\n",
       "      <th>31093</th>\n",
       "      <td>Revelation 22:21</td>\n",
       "      <td>The grace of the Lord Jesus be with all. Amen.</td>\n",
       "    </tr>\n",
       "  </tbody>\n",
       "</table>\n",
       "<p>31094 rows × 2 columns</p>\n",
       "</div>"
      ],
      "text/plain": [
       "              Reference                                            Content\n",
       "0           Genesis 1:1  In the beginning, God created the heavens and ...\n",
       "1           Genesis 1:2  The earth was without form and void, and darkn...\n",
       "2           Genesis 1:3  And God said, “Let there be light,” and there ...\n",
       "3           Genesis 1:4  And God saw that the light was good. And God s...\n",
       "4           Genesis 1:5  God called the light Day, and the darkness he ...\n",
       "...                 ...                                                ...\n",
       "31089  Revelation 22:17  The Spirit and the Bride say, “Come.” And let ...\n",
       "31090  Revelation 22:18  I warn everyone who hears the words of the pro...\n",
       "31091  Revelation 22:19  and if anyone takes away from the words of the...\n",
       "31092  Revelation 22:20  He who testifies to these things says, “Surely...\n",
       "31093  Revelation 22:21     The grace of the Lord Jesus be with all. Amen.\n",
       "\n",
       "[31094 rows x 2 columns]"
      ]
     },
     "execution_count": 55,
     "metadata": {},
     "output_type": "execute_result"
    }
   ],
   "source": [
    "df"
   ]
  },
  {
   "cell_type": "code",
   "execution_count": 58,
   "metadata": {},
   "outputs": [],
   "source": [
    "verse_indexer = {item:i for i, item in enumerate(df.Reference.tolist())}"
   ]
  },
  {
   "cell_type": "code",
   "execution_count": 60,
   "metadata": {},
   "outputs": [],
   "source": [
    "with open('verse_indexer.js', 'w') as f:\n",
    "    json.dump(verse_indexer, f)"
   ]
  }
 ],
 "metadata": {
  "kernelspec": {
   "display_name": "Python 3.7.4 64-bit ('working': conda)",
   "language": "python",
   "name": "python37464bitworkingcondad2586fff3db54b04bf28dc72fd6e6e9e"
  },
  "language_info": {
   "codemirror_mode": {
    "name": "ipython",
    "version": 3
   },
   "file_extension": ".py",
   "mimetype": "text/x-python",
   "name": "python",
   "nbconvert_exporter": "python",
   "pygments_lexer": "ipython3",
   "version": "3.7.4"
  }
 },
 "nbformat": 4,
 "nbformat_minor": 4
}
