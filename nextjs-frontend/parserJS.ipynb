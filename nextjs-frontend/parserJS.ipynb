{
 "cells": [
  {
   "cell_type": "code",
   "execution_count": 1,
   "id": "889199b4",
   "metadata": {},
   "outputs": [],
   "source": [
    "var payload = {\n",
    "    \"query\": \"Psalm 23\",\n",
    "    \"canonical\": \"Psalm 23\",\n",
    "    \"parsed\": [\n",
    "        [\n",
    "            19023001,\n",
    "            19023006\n",
    "        ]\n",
    "    ],\n",
    "    \"passage_meta\": [\n",
    "        {\n",
    "            \"canonical\": \"Psalm 23\",\n",
    "            \"chapter_start\": [\n",
    "                19023001,\n",
    "                19023006\n",
    "            ],\n",
    "            \"chapter_end\": [\n",
    "                19023001,\n",
    "                19023006\n",
    "            ],\n",
    "            \"prev_verse\": 19022031,\n",
    "            \"next_verse\": 19024001,\n",
    "            \"prev_chapter\": [\n",
    "                19022001,\n",
    "                19022031\n",
    "            ],\n",
    "            \"next_chapter\": [\n",
    "                19024001,\n",
    "                19024010\n",
    "            ]\n",
    "        }\n",
    "    ],\n",
    "    \"passages\": [\n",
    "        \"Psalm 23\\n\\nThe LORD Is My Shepherd\\n\\nA Psalm of David.\\n\\n    [1] The LORD is my shepherd; I shall not want.\\n    [2]     He makes me lie down in green pastures.\\n    He leads me beside still waters.(1)\\n    [3]     He restores my soul.\\n    He leads me in paths of righteousness(2)\\n        for his name’s sake.\\n    \\n    \\n    [4] Even though I walk through the valley of the shadow of death,(3)\\n        I will fear no evil,\\n    for you are with me;\\n        your rod and your staff,\\n        they comfort me.\\n    \\n    \\n    [5] You prepare a table before me\\n        in the presence of my enemies;\\n    you anoint my head with oil;\\n        my cup overflows.\\n    [6] Surely(4) goodness and mercy(5) shall follow me\\n        all the days of my life,\\n    and I shall dwell(6) in the house of the LORD\\n        forever.(7)\\n    \\n\\nFootnotes\\n\\n(1) 23:2 Hebrew *beside waters of rest*\\n\\n(2) 23:3 Or *in right paths*\\n\\n(3) 23:4 Or *the valley of deep darkness*\\n\\n(4) 23:6 Or *Only*\\n\\n(5) 23:6 Or *steadfast love*\\n\\n(6) 23:6 Or *shall return to dwell*\\n\\n(7) 23:6 Hebrew *for length of days*\\n (ESV)\"\n",
    "    ]\n",
    "}"
   ]
  },
  {
   "cell_type": "code",
   "execution_count": 3,
   "id": "84b1546c",
   "metadata": {},
   "outputs": [],
   "source": [
    "var removeParagraphs = (text) => text.split('\\n\\n')"
   ]
  },
  {
   "cell_type": "code",
   "execution_count": 2,
   "id": "53524168",
   "metadata": {},
   "outputs": [],
   "source": [
    "var splitTexts = (text) => {\n",
    "    footnoteIndex = removeParagraphs(text).indexOf(\"Footnotes\")\n",
    "    var footnotes = []\n",
    "    var mainText = removeParagraphs(text)\n",
    "    if (footnoteIndex !== -1) {\n",
    "        footnotes = removeParagraphs(text).slice(footnoteIndex)\n",
    "        mainText = removeParagraphs(text).slice(0, footnoteIndex)\n",
    "    }\n",
    "    return [mainText, footnotes]\n",
    "}\n",
    "\n",
    "var removeLineBreaks = (text) => text.split('\\n')\n",
    "var splitOnVerseNumbers = (text) => text.split(/\\[(\\d+)\\]/)\n",
    "var splitOnFootnotes = (text) => text.split(/(\\(\\d+\\))/)"
   ]
  },
  {
   "cell_type": "code",
   "execution_count": 7,
   "id": "44050dc8",
   "metadata": {},
   "outputs": [],
   "source": [
    "// Footnotes only\n",
    "var splitOnItalics = (text) => text.split(/(\\*.*?\\*)/)"
   ]
  },
  {
   "cell_type": "code",
   "execution_count": 9,
   "id": "bd0a6b80",
   "metadata": {},
   "outputs": [],
   "source": [
    "var [mainText, footnotes] = splitTexts(payload.passages[0])"
   ]
  },
  {
   "cell_type": "code",
   "execution_count": 10,
   "id": "9d15ce8d",
   "metadata": {},
   "outputs": [
    {
     "data": {
      "text/plain": [
       "[\n",
       "  'Psalm 23',\n",
       "  'The LORD Is My Shepherd',\n",
       "  'A Psalm of David.',\n",
       "  '    [1] The LORD is my shepherd; I shall not want.\\n' +\n",
       "    '    [2]     He makes me lie down in green pastures.\\n' +\n",
       "    '    He leads me beside still waters.(1)\\n' +\n",
       "    '    [3]     He restores my soul.\\n' +\n",
       "    '    He leads me in paths of righteousness(2)\\n' +\n",
       "    '        for his name’s sake.\\n' +\n",
       "    '    \\n' +\n",
       "    '    \\n' +\n",
       "    '    [4] Even though I walk through the valley of the shadow of death,(3)\\n' +\n",
       "    '        I will fear no evil,\\n' +\n",
       "    '    for you are with me;\\n' +\n",
       "    '        your rod and your staff,\\n' +\n",
       "    '        they comfort me.\\n' +\n",
       "    '    \\n' +\n",
       "    '    \\n' +\n",
       "    '    [5] You prepare a table before me\\n' +\n",
       "    '        in the presence of my enemies;\\n' +\n",
       "    '    you anoint my head with oil;\\n' +\n",
       "    '        my cup overflows.\\n' +\n",
       "    '    [6] Surely(4) goodness and mercy(5) shall follow me\\n' +\n",
       "    '        all the days of my life,\\n' +\n",
       "    '    and I shall dwell(6) in the house of the LORD\\n' +\n",
       "    '        forever.(7)\\n' +\n",
       "    '    '\n",
       "]"
      ]
     },
     "execution_count": 10,
     "metadata": {},
     "output_type": "execute_result"
    }
   ],
   "source": [
    "mainText"
   ]
  },
  {
   "cell_type": "code",
   "execution_count": 11,
   "id": "1b90a4b0",
   "metadata": {},
   "outputs": [
    {
     "data": {
      "text/plain": [
       "[\n",
       "  'Footnotes',\n",
       "  '(1) 23:2 Hebrew *beside waters of rest*',\n",
       "  '(2) 23:3 Or *in right paths*',\n",
       "  '(3) 23:4 Or *the valley of deep darkness*',\n",
       "  '(4) 23:6 Or *Only*',\n",
       "  '(5) 23:6 Or *steadfast love*',\n",
       "  '(6) 23:6 Or *shall return to dwell*',\n",
       "  '(7) 23:6 Hebrew *for length of days*\\n (ESV)'\n",
       "]"
      ]
     },
     "execution_count": 11,
     "metadata": {},
     "output_type": "execute_result"
    }
   ],
   "source": [
    "footnotes"
   ]
  },
  {
   "cell_type": "code",
   "execution_count": 14,
   "id": "f8b45858",
   "metadata": {},
   "outputs": [
    {
     "data": {
      "text/plain": [
       "[\n",
       "  'Psalm 23',\n",
       "  'The LORD Is My Shepherd',\n",
       "  'A Psalm of David.',\n",
       "  '    ',\n",
       "  '1',\n",
       "  ' The LORD is my shepherd; I shall not want.\\n    ',\n",
       "  '2',\n",
       "  '     He makes me lie down in green pastures.\\n' +\n",
       "    '    He leads me beside still waters.',\n",
       "  '(1)',\n",
       "  '\\n    ',\n",
       "  '3',\n",
       "  '     He restores my soul.\\n    He leads me in paths of righteousness',\n",
       "  '(2)',\n",
       "  '\\n        for his name’s sake.\\n    \\n    \\n    ',\n",
       "  '4',\n",
       "  ' Even though I walk through the valley of the shadow of death,',\n",
       "  '(3)',\n",
       "  '\\n' +\n",
       "    '        I will fear no evil,\\n' +\n",
       "    '    for you are with me;\\n' +\n",
       "    '        your rod and your staff,\\n' +\n",
       "    '        they comfort me.\\n' +\n",
       "    '    \\n' +\n",
       "    '    \\n' +\n",
       "    '    ',\n",
       "  '5',\n",
       "  ' You prepare a table before me\\n' +\n",
       "    '        in the presence of my enemies;\\n' +\n",
       "    '    you anoint my head with oil;\\n' +\n",
       "    '        my cup overflows.\\n' +\n",
       "    '    ',\n",
       "  '6',\n",
       "  ' Surely',\n",
       "  '(4)',\n",
       "  ' goodness and mercy',\n",
       "  '(5)',\n",
       "  ' shall follow me\\n        all the days of my life,\\n    and I shall dwell',\n",
       "  '(6)',\n",
       "  ' in the house of the LORD\\n        forever.',\n",
       "  '(7)',\n",
       "  '\\n    '\n",
       "]"
      ]
     },
     "execution_count": 14,
     "metadata": {},
     "output_type": "execute_result"
    }
   ],
   "source": [
    "// Loop through the entire body and format the \n",
    "mainText.flatMap(a => splitOnVerseNumbers(a).flatMap(b => splitOnFootnotes(b)))"
   ]
  },
  {
   "cell_type": "code",
   "execution_count": null,
   "id": "6a7b677d",
   "metadata": {},
   "outputs": [],
   "source": [
    "// Create a span for every single word\n",
    "// Create a div for every {item} in array\n",
    "// If {item} matches integer regex pattern, provide verse number styling via class\n",
    "// If {item} matches (integer) regex pattern, provide footnote styling via class\n",
    "// If {item} matches *text* regex pattern, provide italics styling via Typography\n",
    "\n",
    "// Consider making footnotes into an ordered list"
   ]
  }
 ],
 "metadata": {
  "kernelspec": {
   "display_name": "Javascript (Node.js)",
   "language": "javascript",
   "name": "javascript"
  },
  "language_info": {
   "file_extension": ".js",
   "mimetype": "application/javascript",
   "name": "javascript",
   "version": "16.1.0"
  }
 },
 "nbformat": 4,
 "nbformat_minor": 5
}
